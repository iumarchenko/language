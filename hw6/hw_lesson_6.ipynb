{
 "cells": [
  {
   "cell_type": "markdown",
   "metadata": {},
   "source": [
    "## Провести сравнение RNN, LSTM, GRU на датасете отзывов (из предыдущих занятий/материалов)"
   ]
  },
  {
   "cell_type": "code",
   "execution_count": 21,
   "metadata": {},
   "outputs": [],
   "source": [
    "import pandas as pd\n",
    "from string import punctuation\n",
    "from stop_words import get_stop_words\n",
    "from pymorphy2 import MorphAnalyzer\n",
    "import re\n",
    "\n",
    "import numpy as np\n",
    "import keras\n",
    "from keras.models import Sequential, Model\n",
    "from keras.layers import Dense, Dropout, Activation, Input, Embedding, Conv1D, GlobalMaxPool1D, SimpleRNN, LSTM, GRU, Masking\n",
    "from keras.preprocessing.text import Tokenizer\n",
    "from keras.preprocessing.sequence import pad_sequences\n",
    "from keras.callbacks import TensorBoard \n",
    "from keras.objectives import categorical_crossentropy\n",
    "from keras.callbacks import EarlyStopping  "
   ]
  },
  {
   "cell_type": "code",
   "execution_count": 22,
   "metadata": {},
   "outputs": [],
   "source": [
    "df =  pd.read_excel(\"отзывы за лето.xls\")"
   ]
  },
  {
   "cell_type": "code",
   "execution_count": 23,
   "metadata": {},
   "outputs": [],
   "source": [
    "df_train = df.loc[:4131]\n",
    "df_val = df.loc[4132:]"
   ]
  },
  {
   "cell_type": "code",
   "execution_count": 24,
   "metadata": {},
   "outputs": [
    {
     "name": "stderr",
     "output_type": "stream",
     "text": [
      "C:\\Users\\marchenko-i-u\\AppData\\Local\\Continuum\\anaconda3\\lib\\site-packages\\ipykernel_launcher.py:13: SettingWithCopyWarning: \n",
      "A value is trying to be set on a copy of a slice from a DataFrame.\n",
      "Try using .loc[row_indexer,col_indexer] = value instead\n",
      "\n",
      "See the caveats in the documentation: http://pandas.pydata.org/pandas-docs/stable/indexing.html#indexing-view-versus-copy\n",
      "  del sys.path[0]\n",
      "C:\\Users\\marchenko-i-u\\AppData\\Local\\Continuum\\anaconda3\\lib\\site-packages\\ipykernel_launcher.py:14: SettingWithCopyWarning: \n",
      "A value is trying to be set on a copy of a slice from a DataFrame.\n",
      "Try using .loc[row_indexer,col_indexer] = value instead\n",
      "\n",
      "See the caveats in the documentation: http://pandas.pydata.org/pandas-docs/stable/indexing.html#indexing-view-versus-copy\n",
      "  \n"
     ]
    }
   ],
   "source": [
    "sw = set(get_stop_words(\"ru\"))\n",
    "exclude = set(punctuation)\n",
    "morpher = MorphAnalyzer()\n",
    "\n",
    "def preprocess_text(txt):\n",
    "    txt = str(txt)\n",
    "    txt = \"\".join(c for c in txt if c not in exclude)\n",
    "    txt = txt.lower()\n",
    "    txt = re.sub(\"\\sне\", \"не\", txt)\n",
    "    txt = [morpher.parse(word)[0].normal_form for word in txt.split() if word not in sw]\n",
    "    return \" \".join(txt)\n",
    "\n",
    "df_train['Content'] = df_train['Content'].apply(preprocess_text)\n",
    "df_val['Content'] = df_val['Content'].apply(preprocess_text)"
   ]
  },
  {
   "cell_type": "code",
   "execution_count": 25,
   "metadata": {},
   "outputs": [],
   "source": [
    "text_corpus_train = df_train['Content'].values\n",
    "text_corpus_valid = df_val['Content'].values"
   ]
  },
  {
   "cell_type": "code",
   "execution_count": 26,
   "metadata": {},
   "outputs": [],
   "source": [
    "tokenizer = Tokenizer(num_words=None, \n",
    "                     filters='#$%&()*+-<=>@[\\\\]^_`{|}~\\t\\n',\n",
    "                     lower = False, split = ' ')\n",
    "tokenizer.fit_on_texts(text_corpus_train)\n",
    "\n",
    "sequences_train = tokenizer.texts_to_sequences(text_corpus_train)\n",
    "sequences_val = tokenizer.texts_to_sequences(text_corpus_valid)\n",
    "\n",
    "word_count = len(tokenizer.index_word) + 1\n",
    "training_length = max([len(i.split()) for i in text_corpus_train])\n",
    "\n",
    "X_train = pad_sequences(sequences_train, maxlen=training_length)\n",
    "X_valid = pad_sequences(sequences_val, maxlen=training_length)"
   ]
  },
  {
   "cell_type": "code",
   "execution_count": 52,
   "metadata": {},
   "outputs": [],
   "source": [
    "# y_train = df_train[\"Rating\"].values\n",
    "# y_val = df_val[\"Rating\"].values\n",
    "num_classes = 6\n",
    "y_train = keras.utils.to_categorical(df_train[\"Rating\"], num_classes)\n",
    "y_val = keras.utils.to_categorical(df_val[\"Rating\"], num_classes)"
   ]
  },
  {
   "cell_type": "code",
   "execution_count": 53,
   "metadata": {},
   "outputs": [
    {
     "data": {
      "text/plain": [
       "array([[0., 0., 0., 0., 0., 1.],\n",
       "       [0., 0., 0., 0., 1., 0.],\n",
       "       [0., 0., 0., 0., 0., 1.],\n",
       "       ...,\n",
       "       [0., 0., 0., 0., 0., 1.],\n",
       "       [0., 0., 0., 0., 0., 1.],\n",
       "       [0., 0., 0., 0., 0., 1.]], dtype=float32)"
      ]
     },
     "execution_count": 53,
     "metadata": {},
     "output_type": "execute_result"
    }
   ],
   "source": [
    "y_train"
   ]
  },
  {
   "cell_type": "markdown",
   "metadata": {},
   "source": [
    "#### RNN"
   ]
  },
  {
   "cell_type": "code",
   "execution_count": 66,
   "metadata": {},
   "outputs": [],
   "source": [
    "model = Sequential()\n",
    "\n",
    "model.add(\n",
    "    Embedding(input_dim=word_count,\n",
    "              input_length=training_length,\n",
    "              output_dim=30,\n",
    "              trainable=True,\n",
    "              mask_zero=True))\n",
    "model.add(Masking(mask_value=0.0))\n",
    "\n",
    "model.add(SimpleRNN(64))\n",
    "model.add(Dense(64, activation='relu'))\n",
    "model.add(Dropout(0.5))\n",
    "model.add(Dense(num_classes, activation='sigmoid'))\n",
    "\n",
    "model.compile(\n",
    "    optimizer='adam', loss='categorical_crossentropy', metrics='accuracy')"
   ]
  },
  {
   "cell_type": "code",
   "execution_count": 67,
   "metadata": {
    "scrolled": true
   },
   "outputs": [
    {
     "name": "stdout",
     "output_type": "stream",
     "text": [
      "Epoch 1/10\n",
      "8/8 [==============================] - 1s 131ms/step - loss: 1.6499 - accuracy: 0.4320 - val_loss: 1.4797 - val_accuracy: 0.7029\n",
      "Epoch 2/10\n",
      "8/8 [==============================] - 1s 112ms/step - loss: 1.3870 - accuracy: 0.7372 - val_loss: 1.2929 - val_accuracy: 0.7029\n",
      "Epoch 3/10\n",
      "8/8 [==============================] - 1s 112ms/step - loss: 1.2227 - accuracy: 0.7456 - val_loss: 1.1291 - val_accuracy: 0.7029\n",
      "Epoch 4/10\n",
      "8/8 [==============================] - 1s 114ms/step - loss: 1.1184 - accuracy: 0.7464 - val_loss: 1.0316 - val_accuracy: 0.7029\n",
      "Epoch 5/10\n",
      "8/8 [==============================] - 1s 113ms/step - loss: 1.0644 - accuracy: 0.7431 - val_loss: 0.9857 - val_accuracy: 0.7029\n",
      "Epoch 6/10\n",
      "8/8 [==============================] - 1s 114ms/step - loss: 0.9937 - accuracy: 0.7437 - val_loss: 0.9091 - val_accuracy: 0.7077\n",
      "Epoch 7/10\n",
      "8/8 [==============================] - 1s 125ms/step - loss: 0.9302 - accuracy: 0.7415 - val_loss: 0.8786 - val_accuracy: 0.7150\n",
      "Epoch 8/10\n",
      "8/8 [==============================] - 1s 125ms/step - loss: 0.8953 - accuracy: 0.7499 - val_loss: 0.8220 - val_accuracy: 0.7222\n",
      "Epoch 9/10\n",
      "8/8 [==============================] - 1s 120ms/step - loss: 0.8224 - accuracy: 0.7657 - val_loss: 0.8217 - val_accuracy: 0.7029\n",
      "Epoch 10/10\n",
      "8/8 [==============================] - 1s 115ms/step - loss: 0.8028 - accuracy: 0.7652 - val_loss: 0.7739 - val_accuracy: 0.7174\n"
     ]
    }
   ],
   "source": [
    "early_stopping=EarlyStopping(monitor='val_loss')  \n",
    "\n",
    "\n",
    "history = model.fit(X_train, y_train,\n",
    "                    batch_size=512,\n",
    "                    epochs=10,\n",
    "                    verbose=1,\n",
    "                    validation_split=0.1,\n",
    "                    callbacks=[early_stopping])"
   ]
  },
  {
   "cell_type": "code",
   "execution_count": 68,
   "metadata": {},
   "outputs": [
    {
     "name": "stdout",
     "output_type": "stream",
     "text": [
      "33/33 [==============================] - 2s 50ms/step - loss: 0.8371 - accuracy: 0.7164\n",
      "\n",
      "\n",
      "Test score: 0.837068498134613\n",
      "Test accuracy: 0.7164034843444824\n"
     ]
    }
   ],
   "source": [
    "score = model.evaluate(X_valid, y_val, batch_size=512, verbose=1)\n",
    "print('\\n')\n",
    "print('Test score:', score[0])\n",
    "print('Test accuracy:', score[1])"
   ]
  },
  {
   "cell_type": "markdown",
   "metadata": {},
   "source": [
    "#### LSTM"
   ]
  },
  {
   "cell_type": "code",
   "execution_count": 69,
   "metadata": {},
   "outputs": [
    {
     "name": "stdout",
     "output_type": "stream",
     "text": [
      "Epoch 1/10\n",
      "8/8 [==============================] - 3s 420ms/step - loss: 1.7761 - accuracy: 0.5584 - val_loss: 1.7360 - val_accuracy: 0.7029\n",
      "Epoch 2/10\n",
      "8/8 [==============================] - 3s 371ms/step - loss: 1.6409 - accuracy: 0.7442 - val_loss: 1.4462 - val_accuracy: 0.7029\n",
      "Epoch 3/10\n",
      "8/8 [==============================] - 3s 336ms/step - loss: 1.3720 - accuracy: 0.7448 - val_loss: 1.2562 - val_accuracy: 0.7029\n",
      "Epoch 4/10\n",
      "8/8 [==============================] - 3s 339ms/step - loss: 1.2111 - accuracy: 0.7461 - val_loss: 1.0908 - val_accuracy: 0.7029\n",
      "Epoch 5/10\n",
      "8/8 [==============================] - 3s 355ms/step - loss: 1.1238 - accuracy: 0.7448 - val_loss: 1.0208 - val_accuracy: 0.7029\n",
      "Epoch 6/10\n",
      "8/8 [==============================] - 3s 379ms/step - loss: 1.0799 - accuracy: 0.7466 - val_loss: 0.9958 - val_accuracy: 0.7029\n",
      "Epoch 7/10\n",
      "8/8 [==============================] - 3s 357ms/step - loss: 1.0846 - accuracy: 0.7469 - val_loss: 0.9885 - val_accuracy: 0.7029\n",
      "Epoch 8/10\n",
      "8/8 [==============================] - 3s 330ms/step - loss: 1.0493 - accuracy: 0.7474 - val_loss: 0.9825 - val_accuracy: 0.7029\n",
      "Epoch 9/10\n",
      "8/8 [==============================] - 3s 338ms/step - loss: 1.0412 - accuracy: 0.7474 - val_loss: 0.9703 - val_accuracy: 0.7029\n",
      "Epoch 10/10\n",
      "8/8 [==============================] - 3s 327ms/step - loss: 1.0174 - accuracy: 0.7474 - val_loss: 0.9515 - val_accuracy: 0.7029\n"
     ]
    }
   ],
   "source": [
    "model = Sequential()\n",
    "\n",
    "model.add(\n",
    "    Embedding(input_dim=word_count,\n",
    "              input_length=training_length,\n",
    "              output_dim=30,\n",
    "              trainable=True,\n",
    "              mask_zero=True))\n",
    "model.add(Masking(mask_value=0.0))\n",
    "model.add(LSTM(64, recurrent_dropout=0.2))\n",
    "model.add(Dense(64, activation='relu'))\n",
    "model.add(Dropout(0.5))\n",
    "model.add(Dense(num_classes, activation='sigmoid'))\n",
    "\n",
    "model.compile(\n",
    "    optimizer='adam', loss='categorical_crossentropy', metrics='accuracy')\n",
    "\n",
    "early_stopping=EarlyStopping(monitor='val_loss')  \n",
    "\n",
    "\n",
    "history = model.fit(X_train, y_train,\n",
    "                    batch_size=512,\n",
    "                    epochs=10,\n",
    "                    verbose=1,\n",
    "                    validation_split=0.1,\n",
    "                    callbacks=[early_stopping])"
   ]
  },
  {
   "cell_type": "code",
   "execution_count": 70,
   "metadata": {},
   "outputs": [
    {
     "name": "stdout",
     "output_type": "stream",
     "text": [
      "33/33 [==============================] - 3s 101ms/step - loss: 0.9799 - accuracy: 0.6967\n",
      "\n",
      "\n",
      "Test score: 0.9799314737319946\n",
      "Test accuracy: 0.6967386603355408\n"
     ]
    }
   ],
   "source": [
    "score = model.evaluate(X_valid, y_val, batch_size=512, verbose=1)\n",
    "print('\\n')\n",
    "print('Test score:', score[0])\n",
    "print('Test accuracy:', score[1])"
   ]
  },
  {
   "cell_type": "markdown",
   "metadata": {},
   "source": [
    "#### GRU"
   ]
  },
  {
   "cell_type": "code",
   "execution_count": 71,
   "metadata": {},
   "outputs": [
    {
     "name": "stdout",
     "output_type": "stream",
     "text": [
      "Epoch 1/10\n",
      "8/8 [==============================] - 2s 309ms/step - loss: 1.7720 - accuracy: 0.6070 - val_loss: 1.7345 - val_accuracy: 0.7029\n",
      "Epoch 2/10\n",
      "8/8 [==============================] - 2s 301ms/step - loss: 1.6822 - accuracy: 0.7469 - val_loss: 1.5899 - val_accuracy: 0.7029\n",
      "Epoch 3/10\n",
      "8/8 [==============================] - 2s 298ms/step - loss: 1.4397 - accuracy: 0.7464 - val_loss: 1.1371 - val_accuracy: 0.7029\n",
      "Epoch 4/10\n",
      "8/8 [==============================] - 2s 269ms/step - loss: 1.1221 - accuracy: 0.7474 - val_loss: 0.9870 - val_accuracy: 0.7029\n",
      "Epoch 5/10\n",
      "8/8 [==============================] - 2s 273ms/step - loss: 1.0664 - accuracy: 0.7474 - val_loss: 0.9388 - val_accuracy: 0.7029\n",
      "Epoch 6/10\n",
      "8/8 [==============================] - 2s 306ms/step - loss: 0.9676 - accuracy: 0.7474 - val_loss: 0.9168 - val_accuracy: 0.7029\n",
      "Epoch 7/10\n",
      "8/8 [==============================] - 2s 280ms/step - loss: 0.9117 - accuracy: 0.7477 - val_loss: 0.8709 - val_accuracy: 0.7029\n",
      "Epoch 8/10\n",
      "8/8 [==============================] - 2s 269ms/step - loss: 0.8418 - accuracy: 0.7477 - val_loss: 0.8261 - val_accuracy: 0.7029\n",
      "Epoch 9/10\n",
      "8/8 [==============================] - 2s 269ms/step - loss: 0.7939 - accuracy: 0.7477 - val_loss: 0.7943 - val_accuracy: 0.7029\n",
      "Epoch 10/10\n",
      "8/8 [==============================] - 2s 270ms/step - loss: 0.7382 - accuracy: 0.7496 - val_loss: 0.7725 - val_accuracy: 0.7077\n"
     ]
    }
   ],
   "source": [
    "model = Sequential()\n",
    "\n",
    "model.add(\n",
    "    Embedding(input_dim=word_count,\n",
    "              input_length=training_length,\n",
    "              output_dim=30,\n",
    "              trainable=True,\n",
    "              mask_zero=True))\n",
    "model.add(Masking(mask_value=0.0))\n",
    "model.add(GRU(64, recurrent_dropout=0.2))\n",
    "model.add(Dense(64, activation='relu'))\n",
    "model.add(Dropout(0.5))\n",
    "model.add(Dense(num_classes, activation='sigmoid'))\n",
    "\n",
    "model.compile(\n",
    "    optimizer='adam', loss='categorical_crossentropy', metrics='accuracy')\n",
    "\n",
    "early_stopping=EarlyStopping(monitor='val_loss')  \n",
    "\n",
    "\n",
    "history = model.fit(X_train, y_train,\n",
    "                    batch_size=512,\n",
    "                    epochs=10,\n",
    "                    verbose=1,\n",
    "                    validation_split=0.1,\n",
    "                    callbacks=[early_stopping])"
   ]
  },
  {
   "cell_type": "code",
   "execution_count": 72,
   "metadata": {},
   "outputs": [
    {
     "name": "stdout",
     "output_type": "stream",
     "text": [
      "33/33 [==============================] - 3s 76ms/step - loss: 0.8231 - accuracy: 0.6987\n",
      "\n",
      "\n",
      "Test score: 0.8231433033943176\n",
      "Test accuracy: 0.6987354159355164\n"
     ]
    }
   ],
   "source": [
    "score = model.evaluate(X_valid, y_val, batch_size=512, verbose=1)\n",
    "print('\\n')\n",
    "print('Test score:', score[0])\n",
    "print('Test accuracy:', score[1])"
   ]
  },
  {
   "cell_type": "code",
   "execution_count": null,
   "metadata": {},
   "outputs": [],
   "source": []
  },
  {
   "cell_type": "code",
   "execution_count": null,
   "metadata": {},
   "outputs": [],
   "source": []
  }
 ],
 "metadata": {
  "kernelspec": {
   "display_name": "Python 3",
   "language": "python",
   "name": "python3"
  },
  "language_info": {
   "codemirror_mode": {
    "name": "ipython",
    "version": 3
   },
   "file_extension": ".py",
   "mimetype": "text/x-python",
   "name": "python",
   "nbconvert_exporter": "python",
   "pygments_lexer": "ipython3",
   "version": "3.7.3"
  }
 },
 "nbformat": 4,
 "nbformat_minor": 2
}
